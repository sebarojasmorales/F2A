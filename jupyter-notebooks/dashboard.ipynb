{
 "cells": [
  {
   "cell_type": "code",
   "execution_count": 2,
   "metadata": {},
   "outputs": [],
   "source": [
    "import numpy as np\n",
    "import pandas as pd\n",
    "import plotly.express as px\n",
    "from dash import Dash, dcc, html, Input, Output\n",
    "from jupyter_dash import JupyterDash"
   ]
  },
  {
   "cell_type": "code",
   "execution_count": 3,
   "metadata": {},
   "outputs": [],
   "source": [
    "df_weathers = pd.DataFrame()\n",
    "n_scen=6\n",
    "n_weathers=100\n",
    "for i in range(1,n_scen+1):\n",
    "    for j in range(1,n_weathers+1):\n",
    "        path = f'/home/sebar/Documents/SAESA/Datos/Weathers/escenario{i}/Weather{j}.csv'\n",
    "        df_local = pd.read_csv(path)\n",
    "        df_local['Scenario Group'] = i\n",
    "        df_weathers = pd.concat([df_weathers,df_local]).reset_index(drop=True)"
   ]
  },
  {
   "cell_type": "code",
   "execution_count": 11,
   "metadata": {},
   "outputs": [
    {
     "name": "stdout",
     "output_type": "stream",
     "text": [
      "Dash app running on http://127.0.0.1:8050/\n"
     ]
    },
    {
     "data": {
      "application/javascript": "window.open('http://127.0.0.1:8050/')",
      "text/plain": [
       "<IPython.core.display.Javascript object>"
      ]
     },
     "metadata": {},
     "output_type": "display_data"
    }
   ],
   "source": [
    "app = Dash(__name__)\n",
    "\n",
    "\n",
    "app.layout = html.Div([\n",
    "    html.H1(\"Dashboard F2A\"),\n",
    "    html.H4(\"Weather Analysis\"),\n",
    "    html.Div([\n",
    "    html.Label(\"Variable:\"),\n",
    "    #dcc.Checklist(\n",
    "    dcc.Dropdown(\n",
    "    id='Variable',\n",
    "    options=[\n",
    "        {'label': 'Temperature', 'value': 'TM'},\n",
    "        {'label': 'Wind Speed', 'value': 'WS'},\n",
    "        {'label': 'Wind Direction', 'value': 'WD'},\n",
    "        {'label': 'Relative Humidity', 'value': 'RH'},\n",
    "    ],\n",
    "    value='TM'\n",
    "    ),\n",
    "    html.Br(),\n",
    "    html.Label(\"Select aggregation by weather file:\"),\n",
    "    dcc.Dropdown(\n",
    "    id='Aggregation',\n",
    "    options=[\n",
    "        {'label': 'No aggregation', 'value': 'No aggregation'},\n",
    "        {'label': 'Max by file', 'value': 'Max by file'},\n",
    "    ],\n",
    "    value='No aggregation'\n",
    "    ),\n",
    "    dcc.Graph(id=\"graph\"),])\n",
    "])\n",
    "\n",
    "@app.callback(\n",
    "    Output(\"graph\", \"figure\"), \n",
    "    Input(\"Aggregation\", \"value\"),\n",
    "    Input(\"Variable\", \"value\"))\n",
    "def generate_chart(aggregation,variable):\n",
    "    if aggregation == \"Max by file\":\n",
    "        df = df_weathers.groupby(['Scenario Group', 'Scenario']).max().reset_index()\n",
    "    else:\n",
    "        df = df_weathers\n",
    "    fig = px.box(df, x=\"Scenario Group\", y=variable, title=f'Boxplot {variable}')\n",
    "    return fig\n",
    "\n",
    "app.run_server(jupyter_mode=\"tab\")"
   ]
  },
  {
   "cell_type": "code",
   "execution_count": null,
   "metadata": {},
   "outputs": [],
   "source": []
  }
 ],
 "metadata": {
  "kernelspec": {
   "display_name": ".venv",
   "language": "python",
   "name": "python3"
  },
  "language_info": {
   "codemirror_mode": {
    "name": "ipython",
    "version": 3
   },
   "file_extension": ".py",
   "mimetype": "text/x-python",
   "name": "python",
   "nbconvert_exporter": "python",
   "pygments_lexer": "ipython3",
   "version": "3.11.2"
  }
 },
 "nbformat": 4,
 "nbformat_minor": 2
}
